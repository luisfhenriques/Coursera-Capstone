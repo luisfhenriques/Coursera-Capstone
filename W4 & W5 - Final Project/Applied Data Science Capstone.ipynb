{
 "cells": [
  {
   "cell_type": "markdown",
   "metadata": {},
   "source": [
    "# <center>**Wine Business Concept & Venues Analysis of Brooklyn**</center>\n",
    "## <center>Applied Data Science Capstone (Coursera / IBM)</center>\n"
   ]
  },
  {
   "cell_type": "markdown",
   "metadata": {},
   "source": [
    "## Table of Contents\n",
    "\n",
    "1.  <a href=\"#item1\">Introduction</a>\n",
    "    1.  <a href=\"#item2\">Business Description</a>  \n",
    "3.  <a href=\"#item3\">Data Description</a>  \n",
    "4.  <a href=\"#item4\">TODO</a>  \n",
    "5.  <a href=\"#item5\">TODO</a>  "
   ]
  },
  {
   "cell_type": "markdown",
   "metadata": {},
   "source": [
    "## 1. Introduction"
   ]
  },
  {
   "cell_type": "markdown",
   "metadata": {},
   "source": [
    "New York City also known as \"The Big Apple\" or \"The City that Never Sleeps”, is the most populous city in the United States.\n",
    "With an estimated 2019 population of **8,336,817** distributed over about **302.6 square miles (784 km2)**, New York City is also the most densely populated major city in the United States and also one of the world's most populous megacities.\n",
    "New York City has been described as the cultural, financial, and media capital of the world, significantly influencing commerce, entertainment, research, technology, education, politics, tourism, art, fashion, and sports. [1]\n",
    "\n",
    "As many as 800 languages are spoken in New York, making it the most linguistically diverse city in the world. New York is home to more than 3.2 million residents born outside the United States, the largest foreign-born population of any city in the world. Basically NYC is a world inside the world.\n",
    "New York City is composed of five boroughs, each of which is a county of the State of New York. The five boroughs are: Brooklyn, Queens, Manhattan, the Bronx and Staten Island.\n",
    "\n",
    "**Brooklyn**, the most populous borough, is known for its cultural, social, and ethnic diversity, an independent art scene, distinct neighborhoods, and a distinctive architectural heritage.\n",
    "Downtown Brooklyn is the largest central core neighborhood in the Outer Boroughs.\n",
    "The borough has a long beachfront shoreline including Coney Island, established in the 1870s as one of the earliest amusement grounds in the U.S.\n",
    "Marine Park and Prospect Park are the two largest parks in Brooklyn.\n",
    "The last decade, Brooklyn has evolved into a thriving hub of entrepreneurship and high technology startup firms and of postmodern art and design and one of the most desire borough to start a new business. [2]\n",
    "\n",
    "\n",
    "On the other side of the Atlantic Ocean, we can find a small country in size, but a huge country in terms of culture, world history, and a country vast in natural wealth. This country is *Portugal*.\n",
    "\n",
    "Portugal is the westernmost country and one of the eldest nations in Europe. It is comprised of two parts, a continental part, and two autonomous regions: the archipelagos of the Azores and Madeira. For such a small country it is very diverse in geography from north to south and the capital city boasts 300 days of sunshine per year.\n",
    "Portugal has been Europe’s best-kept secret for tourism until recent years when it was awarded the World Travel Award for Europe’s Leading Destination.  With nearly 1800km of coastline, Portugal is a world-class destination for beach lovers, it has 17 UNESCO World Heritage Sites and is known for its world-class gastronomy including wine.\n",
    "\n",
    "To many wine experts, Portugal is the last frontier of wine in Western Europe; there is still so much to be tasted and explored. For serious wine lovers it’s an exciting country to explore since most of the grape varieties are native to the country and not found anywhere else in the world. \n",
    "Due to its growing popularity, the biggest challenge is finding Portuguese wines outside of Portugal and especially in the USA.  One might find a wine or two in a specialty store but you most certainly won’t find a dedicated section in your local wine shop. "
   ]
  },
  {
   "cell_type": "markdown",
   "metadata": {},
   "source": [
    "## 1.A Business Description"
   ]
  },
  {
   "cell_type": "markdown",
   "metadata": {},
   "source": [
    "Recently I was approached by an entrepreneur who lived in New York for 15 years and in the last 2 years has lived in Portugal. From early on she fell in love with Portugal and one of the best things the country can offer, Portuguese wine.\n",
    "Based on her recent passion, this entrepreneur decided to start a wine export business from small Portuguese producers to the United States of America directly to the final consumer.\n",
    "After the successful launch of the export business this entrepreneur saw an opportunity to open a Portuguese wine store in the borough of Brooklyn in order to make the exclusive wines available to the inhabitants of New York.\n",
    "\n",
    "With my data scientist skills I will try to **find a place to locate the new wine store**, preferably that is **close to Portuguese restaurants** and located in a **neighborhood where the average base salary is high**, due to the exclusivity of the wines, and without any **wine stores in the vicinity**.\n"
   ]
  },
  {
   "cell_type": "markdown",
   "metadata": {},
   "source": [
    "## 2. Data Description"
   ]
  },
  {
   "cell_type": "markdown",
   "metadata": {},
   "source": [
    "Based on the problem at hand, we need to describe what are our main requisits that will impact our decision and present to potencial investors:\n",
    "* The wine store should be located in a neighborhood within one of the **highest household income** / **highest population density**\n",
    "* If possible, should be **near a Portuguese restaurant(s)** in the vicinity or near restaurants that have the same Mediterranean cuisine and appreciate a good wine, like Italian or Spanish restaurants\n",
    "* The **distance** to other wine stores or wine bars\n",
    "\n",
    "For our analysis to be carried out successfully, it is necessary to obtain data from several sources. The data will be downloaded from:\n",
    "* **2014 New York City Neighborhood Names** dataset from Spatial Data Repository of NYU. This dataset has all neighborhood's name and respective coordinates\n",
    "* **2016 New York City Neighborhood Tabulation Areas** dataset from Spatial Data Repository of NYU. This dataset has the geospatial data that can be useful to delimited the neighborhood area\n",
    "* **Foursquare API** to verify the location of each venue and respective description (restaurant and bar) in our chosen neighborhood\n",
    "* **Average Household Income** of Brooklyn borough from a New York Real State website (https://ny.curbed.com/)"
   ]
  },
  {
   "cell_type": "code",
   "execution_count": null,
   "metadata": {},
   "outputs": [],
   "source": []
  }
 ],
 "metadata": {
  "kernelspec": {
   "display_name": "Python 3",
   "language": "python",
   "name": "python3"
  },
  "language_info": {
   "codemirror_mode": {
    "name": "ipython",
    "version": 3
   },
   "file_extension": ".py",
   "mimetype": "text/x-python",
   "name": "python",
   "nbconvert_exporter": "python",
   "pygments_lexer": "ipython3",
   "version": "3.8.3"
  }
 },
 "nbformat": 4,
 "nbformat_minor": 4
}
